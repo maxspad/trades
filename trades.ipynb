{
    "cells": [
        {
            "cell_type": "code",
            "execution_count": 8,
            "source": [
                "from icalendar import Calendar, Event\n",
                "import pandas as pd\n",
                "import re"
            ],
            "outputs": [],
            "metadata": {}
        },
        {
            "cell_type": "code",
            "execution_count": 9,
            "source": [
                "ical_file = 'schedule.ics'\n",
                "with open(ical_file) as f:\n",
                "    ical_text = f.read()\n",
                "cal = Calendar.from_ical(ical_text)\n",
                "w = cal.walk()\n",
                "w = w[1:] # cal is the first item for some reason"
            ],
            "outputs": [],
            "metadata": {}
        },
        {
            "cell_type": "code",
            "execution_count": 56,
            "source": [
                "def event_to_dict(e):\n",
                "    event_dict = {key.lower() : clean_bytes(e.decoded(key)) for key in e}\n",
                "    del event_dict['uid']\n",
                "    del event_dict['sequence']\n",
                "    desc_dict = extract_desc(event_dict['description'])\n",
                "    for key in desc_dict:\n",
                "        event_dict[key] = desc_dict[key]\n",
                "    del event_dict['description']\n",
                "    \n",
                "    event_dict['person'] = extract_person(event_dict['summary'], event_dict['shift'])\n",
                "\n",
                "    return event_dict\n",
                "\n",
                "def extract_person(summary_str, shift_code):\n",
                "    summ_str_split = summary_str.split(' ')\n",
                "    return summ_str_split[-2] + ' ' + summ_str_split[-1]\n",
                "    # return summary_str.split(shift_code + ' ')[-1]\n",
                "\n",
                "def extract_desc(desc):\n",
                "    lines = desc.split('\\n')\n",
                "    desc_dict = {}\n",
                "    for line in lines:\n",
                "        colon_loc = line.find(':')\n",
                "        key = line[:colon_loc]\n",
                "        val = line[colon_loc+1:]\n",
                "        desc_dict[key.lower()] = val[1:]\n",
                "    return desc_dict\n",
                "\n",
                "def clean_bytes(b):\n",
                "    if type(b) == bytes:\n",
                "        return b.decode('utf8')\n",
                "    else:\n",
                "        return b"
            ],
            "outputs": [],
            "metadata": {}
        },
        {
            "cell_type": "code",
            "execution_count": 57,
            "source": [
                "event_dicts = [event_to_dict(e) for e in w]\n",
                "# for i, e in enumerate(w):\n",
                "#     try:\n",
                "#         # print(i)\n",
                "#         event_to_dict(e)\n",
                "#     except Exception as e:\n",
                "#         print(i)\n",
                "#         raise e"
            ],
            "outputs": [],
            "metadata": {}
        },
        {
            "cell_type": "code",
            "execution_count": 58,
            "source": [
                "df = pd.DataFrame(event_dicts)"
            ],
            "outputs": [],
            "metadata": {}
        },
        {
            "cell_type": "code",
            "execution_count": 59,
            "source": [
                "df['shift type'].value_counts()"
            ],
            "outputs": [
                {
                    "output_type": "execute_result",
                    "data": {
                        "text/plain": [
                            "PGY 1 (UH, UI, SH, SI)          892\n",
                            "EM 4 (UJ, UL, SJ, SL)           384\n",
                            "EM 23 (SA, SB, SD)              320\n",
                            "EM 3 (UX, UY, UZ)               319\n",
                            "EM 2,3,4 (EC3 Shifts)           224\n",
                            "EM 2 (UK, UC, UG)               224\n",
                            "Jeopardy                        219\n",
                            "EM 34 (HPed, UPed)               32\n",
                            "EM 234 - SF                      19\n",
                            "Manual Shifts (TS/Anes/Peds)      7\n",
                            "EM 234 - Extra (UR, SC)           6\n",
                            "EM 23 - Extra (UF)                3\n",
                            "EM 12 (T3)                        1\n",
                            "Track - EMS                       1\n",
                            "Name: shift type, dtype: int64"
                        ]
                    },
                    "metadata": {},
                    "execution_count": 59
                }
            ],
            "metadata": {}
        },
        {
            "cell_type": "code",
            "execution_count": 62,
            "source": [
                "\n",
                "df.person.value_counts()"
            ],
            "outputs": [
                {
                    "output_type": "execute_result",
                    "data": {
                        "text/plain": [
                            "M Griffith         59\n",
                            "E Ager             58\n",
                            "M Newton           55\n",
                            "M Abdel-Hamid      55\n",
                            "M Mitchell         53\n",
                            "                   ..\n",
                            "Z Kramer            2\n",
                            "N Makki             2\n",
                            "T Kolodziejczyk     2\n",
                            "N Abdi              1\n",
                            "K Fraser            1\n",
                            "Name: person, Length: 99, dtype: int64"
                        ]
                    },
                    "metadata": {},
                    "execution_count": 62
                }
            ],
            "metadata": {}
        },
        {
            "cell_type": "code",
            "execution_count": 60,
            "source": [
                "df.sort_values(['dtstart','facility'])"
            ],
            "outputs": [
                {
                    "output_type": "execute_result",
                    "data": {
                        "text/plain": [
                            "                       dtstamp                   dtstart  \\\n",
                            "0    2021-08-16 19:19:01+00:00 2021-07-01 06:00:00-04:00   \n",
                            "1    2021-08-16 19:19:01+00:00 2021-07-01 06:00:00-04:00   \n",
                            "8    2021-08-16 19:19:01+00:00 2021-07-01 07:00:00-04:00   \n",
                            "2    2021-08-16 19:19:01+00:00 2021-07-01 07:00:00-04:00   \n",
                            "3    2021-08-16 19:19:01+00:00 2021-07-01 07:00:00-04:00   \n",
                            "...                        ...                       ...   \n",
                            "2646 2021-08-16 19:19:02+00:00 2021-10-20 20:00:00-04:00   \n",
                            "2648 2021-08-16 19:19:02+00:00 2021-10-20 22:00:00-04:00   \n",
                            "2647 2021-08-16 19:19:02+00:00 2021-10-20 22:00:00-04:00   \n",
                            "2649 2021-08-16 19:19:02+00:00 2021-10-20 23:00:00-04:00   \n",
                            "2650 2021-08-16 19:19:02+00:00 2021-10-20 23:00:00-04:00   \n",
                            "\n",
                            "                         dtend                      summary  \\\n",
                            "0    2021-07-01 16:00:00-04:00             SJ SA C Agubosim   \n",
                            "1    2021-07-01 16:00:00-04:00                SJ SH M Davis   \n",
                            "8    2021-07-01 16:00:00-04:00                SJ SJ K Grace   \n",
                            "2    2021-07-01 16:00:00-04:00               UM UH L Kruger   \n",
                            "3    2021-07-01 16:00:00-04:00                  UM UH V Lin   \n",
                            "...                        ...                          ...   \n",
                            "2646 2021-10-21 04:00:00-04:00             SJ SE N Rosculet   \n",
                            "2648 2021-10-21 08:00:00-04:00            SJ SD N Valentini   \n",
                            "2647 2021-10-21 07:00:00-04:00            UM UG A Krumheuer   \n",
                            "2649 2021-10-21 07:00:00-04:00           UM UZ M Grzywinski   \n",
                            "2650 2021-10-21 08:00:00-04:00  UM 11p-8a Night EC3 K Grace   \n",
                            "\n",
                            "                  group                   facility                     shift  \\\n",
                            "0     UM/St. Joe's - EM  St. Joseph Mercy Hospital                        SA   \n",
                            "1     UM/St. Joe's - EM  St. Joseph Mercy Hospital                        SH   \n",
                            "8     UM/St. Joe's - EM  St. Joseph Mercy Hospital                        SJ   \n",
                            "2     UM/St. Joe's - EM     University of Michigan                        UH   \n",
                            "3     UM/St. Joe's - EM     University of Michigan                        UH   \n",
                            "...                 ...                        ...                       ...   \n",
                            "2646  UM/St. Joe's - EM  St. Joseph Mercy Hospital                        SE   \n",
                            "2648  UM/St. Joe's - EM  St. Joseph Mercy Hospital                        SD   \n",
                            "2647  UM/St. Joe's - EM     University of Michigan                        UG   \n",
                            "2649  UM/St. Joe's - EM     University of Michigan                        UZ   \n",
                            "2650  UM/St. Joe's - EM     University of Michigan  11:00pm-8:00am EC3 Night   \n",
                            "\n",
                            "                   shift type        person  \n",
                            "0          EM 23 (SA, SB, SD)    C Agubosim  \n",
                            "1      PGY 1 (UH, UI, SH, SI)       M Davis  \n",
                            "8       EM 4 (UJ, UL, SJ, SL)       K Grace  \n",
                            "2      PGY 1 (UH, UI, SH, SI)      L Kruger  \n",
                            "3      PGY 1 (UH, UI, SH, SI)         V Lin  \n",
                            "...                       ...           ...  \n",
                            "2646  EM 234 - Extra (UR, SC)    N Rosculet  \n",
                            "2648       EM 23 (SA, SB, SD)   N Valentini  \n",
                            "2647        EM 2 (UK, UC, UG)   A Krumheuer  \n",
                            "2649        EM 3 (UX, UY, UZ)  M Grzywinski  \n",
                            "2650    EM 2,3,4 (EC3 Shifts)       K Grace  \n",
                            "\n",
                            "[2651 rows x 9 columns]"
                        ],
                        "text/html": [
                            "<div>\n",
                            "<style scoped>\n",
                            "    .dataframe tbody tr th:only-of-type {\n",
                            "        vertical-align: middle;\n",
                            "    }\n",
                            "\n",
                            "    .dataframe tbody tr th {\n",
                            "        vertical-align: top;\n",
                            "    }\n",
                            "\n",
                            "    .dataframe thead th {\n",
                            "        text-align: right;\n",
                            "    }\n",
                            "</style>\n",
                            "<table border=\"1\" class=\"dataframe\">\n",
                            "  <thead>\n",
                            "    <tr style=\"text-align: right;\">\n",
                            "      <th></th>\n",
                            "      <th>dtstamp</th>\n",
                            "      <th>dtstart</th>\n",
                            "      <th>dtend</th>\n",
                            "      <th>summary</th>\n",
                            "      <th>group</th>\n",
                            "      <th>facility</th>\n",
                            "      <th>shift</th>\n",
                            "      <th>shift type</th>\n",
                            "      <th>person</th>\n",
                            "    </tr>\n",
                            "  </thead>\n",
                            "  <tbody>\n",
                            "    <tr>\n",
                            "      <th>0</th>\n",
                            "      <td>2021-08-16 19:19:01+00:00</td>\n",
                            "      <td>2021-07-01 06:00:00-04:00</td>\n",
                            "      <td>2021-07-01 16:00:00-04:00</td>\n",
                            "      <td>SJ SA C Agubosim</td>\n",
                            "      <td>UM/St. Joe's - EM</td>\n",
                            "      <td>St. Joseph Mercy Hospital</td>\n",
                            "      <td>SA</td>\n",
                            "      <td>EM 23 (SA, SB, SD)</td>\n",
                            "      <td>C Agubosim</td>\n",
                            "    </tr>\n",
                            "    <tr>\n",
                            "      <th>1</th>\n",
                            "      <td>2021-08-16 19:19:01+00:00</td>\n",
                            "      <td>2021-07-01 06:00:00-04:00</td>\n",
                            "      <td>2021-07-01 16:00:00-04:00</td>\n",
                            "      <td>SJ SH M Davis</td>\n",
                            "      <td>UM/St. Joe's - EM</td>\n",
                            "      <td>St. Joseph Mercy Hospital</td>\n",
                            "      <td>SH</td>\n",
                            "      <td>PGY 1 (UH, UI, SH, SI)</td>\n",
                            "      <td>M Davis</td>\n",
                            "    </tr>\n",
                            "    <tr>\n",
                            "      <th>8</th>\n",
                            "      <td>2021-08-16 19:19:01+00:00</td>\n",
                            "      <td>2021-07-01 07:00:00-04:00</td>\n",
                            "      <td>2021-07-01 16:00:00-04:00</td>\n",
                            "      <td>SJ SJ K Grace</td>\n",
                            "      <td>UM/St. Joe's - EM</td>\n",
                            "      <td>St. Joseph Mercy Hospital</td>\n",
                            "      <td>SJ</td>\n",
                            "      <td>EM 4 (UJ, UL, SJ, SL)</td>\n",
                            "      <td>K Grace</td>\n",
                            "    </tr>\n",
                            "    <tr>\n",
                            "      <th>2</th>\n",
                            "      <td>2021-08-16 19:19:01+00:00</td>\n",
                            "      <td>2021-07-01 07:00:00-04:00</td>\n",
                            "      <td>2021-07-01 16:00:00-04:00</td>\n",
                            "      <td>UM UH L Kruger</td>\n",
                            "      <td>UM/St. Joe's - EM</td>\n",
                            "      <td>University of Michigan</td>\n",
                            "      <td>UH</td>\n",
                            "      <td>PGY 1 (UH, UI, SH, SI)</td>\n",
                            "      <td>L Kruger</td>\n",
                            "    </tr>\n",
                            "    <tr>\n",
                            "      <th>3</th>\n",
                            "      <td>2021-08-16 19:19:01+00:00</td>\n",
                            "      <td>2021-07-01 07:00:00-04:00</td>\n",
                            "      <td>2021-07-01 16:00:00-04:00</td>\n",
                            "      <td>UM UH V Lin</td>\n",
                            "      <td>UM/St. Joe's - EM</td>\n",
                            "      <td>University of Michigan</td>\n",
                            "      <td>UH</td>\n",
                            "      <td>PGY 1 (UH, UI, SH, SI)</td>\n",
                            "      <td>V Lin</td>\n",
                            "    </tr>\n",
                            "    <tr>\n",
                            "      <th>...</th>\n",
                            "      <td>...</td>\n",
                            "      <td>...</td>\n",
                            "      <td>...</td>\n",
                            "      <td>...</td>\n",
                            "      <td>...</td>\n",
                            "      <td>...</td>\n",
                            "      <td>...</td>\n",
                            "      <td>...</td>\n",
                            "      <td>...</td>\n",
                            "    </tr>\n",
                            "    <tr>\n",
                            "      <th>2646</th>\n",
                            "      <td>2021-08-16 19:19:02+00:00</td>\n",
                            "      <td>2021-10-20 20:00:00-04:00</td>\n",
                            "      <td>2021-10-21 04:00:00-04:00</td>\n",
                            "      <td>SJ SE N Rosculet</td>\n",
                            "      <td>UM/St. Joe's - EM</td>\n",
                            "      <td>St. Joseph Mercy Hospital</td>\n",
                            "      <td>SE</td>\n",
                            "      <td>EM 234 - Extra (UR, SC)</td>\n",
                            "      <td>N Rosculet</td>\n",
                            "    </tr>\n",
                            "    <tr>\n",
                            "      <th>2648</th>\n",
                            "      <td>2021-08-16 19:19:02+00:00</td>\n",
                            "      <td>2021-10-20 22:00:00-04:00</td>\n",
                            "      <td>2021-10-21 08:00:00-04:00</td>\n",
                            "      <td>SJ SD N Valentini</td>\n",
                            "      <td>UM/St. Joe's - EM</td>\n",
                            "      <td>St. Joseph Mercy Hospital</td>\n",
                            "      <td>SD</td>\n",
                            "      <td>EM 23 (SA, SB, SD)</td>\n",
                            "      <td>N Valentini</td>\n",
                            "    </tr>\n",
                            "    <tr>\n",
                            "      <th>2647</th>\n",
                            "      <td>2021-08-16 19:19:02+00:00</td>\n",
                            "      <td>2021-10-20 22:00:00-04:00</td>\n",
                            "      <td>2021-10-21 07:00:00-04:00</td>\n",
                            "      <td>UM UG A Krumheuer</td>\n",
                            "      <td>UM/St. Joe's - EM</td>\n",
                            "      <td>University of Michigan</td>\n",
                            "      <td>UG</td>\n",
                            "      <td>EM 2 (UK, UC, UG)</td>\n",
                            "      <td>A Krumheuer</td>\n",
                            "    </tr>\n",
                            "    <tr>\n",
                            "      <th>2649</th>\n",
                            "      <td>2021-08-16 19:19:02+00:00</td>\n",
                            "      <td>2021-10-20 23:00:00-04:00</td>\n",
                            "      <td>2021-10-21 07:00:00-04:00</td>\n",
                            "      <td>UM UZ M Grzywinski</td>\n",
                            "      <td>UM/St. Joe's - EM</td>\n",
                            "      <td>University of Michigan</td>\n",
                            "      <td>UZ</td>\n",
                            "      <td>EM 3 (UX, UY, UZ)</td>\n",
                            "      <td>M Grzywinski</td>\n",
                            "    </tr>\n",
                            "    <tr>\n",
                            "      <th>2650</th>\n",
                            "      <td>2021-08-16 19:19:02+00:00</td>\n",
                            "      <td>2021-10-20 23:00:00-04:00</td>\n",
                            "      <td>2021-10-21 08:00:00-04:00</td>\n",
                            "      <td>UM 11p-8a Night EC3 K Grace</td>\n",
                            "      <td>UM/St. Joe's - EM</td>\n",
                            "      <td>University of Michigan</td>\n",
                            "      <td>11:00pm-8:00am EC3 Night</td>\n",
                            "      <td>EM 2,3,4 (EC3 Shifts)</td>\n",
                            "      <td>K Grace</td>\n",
                            "    </tr>\n",
                            "  </tbody>\n",
                            "</table>\n",
                            "<p>2651 rows × 9 columns</p>\n",
                            "</div>"
                        ]
                    },
                    "metadata": {},
                    "execution_count": 60
                }
            ],
            "metadata": {}
        },
        {
            "cell_type": "code",
            "execution_count": 7,
            "source": [
                "blah = event_to_dict(w[1])\n",
                "print(blah['DESCRIPTION'])"
            ],
            "outputs": [
                {
                    "output_type": "stream",
                    "name": "stdout",
                    "text": [
                        "Group: UM/St. Joe's - EM\n",
                        "Facility: St. Joseph Mercy Hospital\n",
                        "Shift: SH\n",
                        "Shift Type: PGY 1 (UH, UI, SH, SI)\n"
                    ]
                }
            ],
            "metadata": {}
        },
        {
            "cell_type": "code",
            "execution_count": null,
            "source": [
                "blah = event_to_dict(w[1])\n",
                "blah['UID']"
            ],
            "outputs": [],
            "metadata": {}
        },
        {
            "cell_type": "code",
            "execution_count": null,
            "source": [
                "type(blah['UID'])"
            ],
            "outputs": [],
            "metadata": {}
        },
        {
            "cell_type": "code",
            "execution_count": null,
            "source": [
                "for e in w:\n",
                "    print(e.property_items())"
            ],
            "outputs": [],
            "metadata": {}
        },
        {
            "cell_type": "code",
            "execution_count": null,
            "source": [],
            "outputs": [],
            "metadata": {}
        }
    ],
    "metadata": {
        "orig_nbformat": 4,
        "language_info": {
            "name": "python",
            "version": "3.8.10",
            "mimetype": "text/x-python",
            "codemirror_mode": {
                "name": "ipython",
                "version": 3
            },
            "pygments_lexer": "ipython3",
            "nbconvert_exporter": "python",
            "file_extension": ".py"
        },
        "kernelspec": {
            "name": "python3",
            "display_name": "Python 3.8.10 64-bit ('trades': conda)"
        },
        "interpreter": {
            "hash": "1ec817e140f806dd8839cfc089af3bc4594161b18ef62bbd72dc99d235281761"
        }
    },
    "nbformat": 4,
    "nbformat_minor": 2
}